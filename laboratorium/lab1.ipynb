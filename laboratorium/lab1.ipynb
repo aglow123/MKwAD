{
 "cells": [
  {
   "cell_type": "markdown",
   "metadata": {
    "id": "gEVzVj9P2_Zc"
   },
   "source": [
    "## Wstęp\n",
    "\n",
    "Dzisiaj zapoznasz się z jednym z najważniejszych zagadnień w kryptografii - czyli z funkcjami skrótu. Opowiemy sobie czym one są, do czego służą i gdzie są wykorzystywane na przykładzie standardu SHA-3."
   ]
  },
  {
   "cell_type": "markdown",
   "metadata": {
    "id": "xkB3GTRg331K"
   },
   "source": [
    "## Funkcje skrótu\n",
    "\n",
    "Zwane też: funkcje skracające, funkcje mieszające, funkcje haszujące, a z języka ang. *hashing functions*. W słowniku języka polskiego nie ma oficjalnej nazwy tych funkcji, dlatego podałem wszystkie z którymi możesz się spotkać w literaturze.\n",
    "\n",
    "Z natury są to funkcje jednokierunkowe, które jako wejście przyjmują ciąg binarny o potencjalnie nieograniczonej długości, a jako wyjście zwracają ciąg binarny zawsze tej samej długości:\n",
    "$$\n",
    "h: \\{0, 1\\}^* \\rightarrow  \\{0, 1\\}^n\n",
    "$$\n",
    "gdzie *h* oznacza funkcję skrótu, a *n* to długość zwracanego skrótu. Ta matematyczna definicja nie uwzględnia jednak pewnych dodatkowych właściowści, które funkcja skótu powinna posiadać. Są to:\n",
    "- skrót powinien być łatwy do obliczenia (wydajność),\n",
    "- dysponując funkcją skrótu *h* oraz skrótem oznaczonym jako *h(x)* powinno być niewykonalne (a przynajmniej bardzo, bardzo trudne) znalezienie wartości *x*. Ta własność jest określana jako bezpieczeństwo pierwszego preobrazu (z ang. *first preimage resistance*),\n",
    "- mając **podane** *h* oraz *x*, powinno być bardzo trudne odnalezienie wartości *y* takiej, że *h(x) = h(y)*. Ta własność jest określana jako bezpieczeństwo drugiego preobrazu (z ang. *second preimage resistance*),\n",
    "- powinno być także trudno znaleźć dwie **dowolne** wartości *x* oraz *y* takie, że *h(x) = h(y)*. Ta własność zwana jest odpornością na kolizje (z ang. *collision resistance*).\n",
    "\n",
    "Bezpieczeństwo funkcji skrótu podajemy w tzw. bitach bezpieczeństwa. Jeżeli funkcja skrótu posiada *b* bitów bezpieczeństwa odporności na dany atak, to znaczy, że atakujący musałby wykonać $2^b$ operacji aby atak się udał. Teoretyczne maksymalne wartości liczby bitów bezpieczeństwa to $n$ w przypadku ataków na pierwszy i drugi preobraz, oraz $\\frac{n}{2}$ w przypadku szukaniu kolizji (ta wartość wynika z [paradoksu urodzin](https://en.wikipedia.org/wiki/Birthday_problem)), gdzie tak jak poprzednio *n* oznacza długość zwracanego skrótu. Mówiąc o bezpieczeństwie trzeba jednak pamiętać o jednym. Każda funkcja skrótu jest do złamania. Wynika to z prostego faktu: posiadamy teoretycznie nieograniczoną liczbę wejść, a ograniczoną (choć za zwyczaj jest to wartość duża) liczbę wyjść.\n",
    "\n",
    "No dobrze, tylko gdzie my możemy funkcje skrótu wykorzystać? Obecnie wyszczególniłbym następujące schematy wykorzystujące funkcje skrótu:\n",
    "- przechowywanie haseł w bazie danych,\n",
    "- weryfikacja integralności danych (w szczególności schematy podpisu cyfrowego),\n",
    "- kryptografia post-quantum, w szczególności gałąź zwana *hash-based cryptography*, o której więcej możesz przeczytać [tutaj](https://en.wikipedia.org/wiki/Hash-based_cryptography).\n",
    "\n",
    "W historii były cztery światowe standardy: SHA-0, SHA-1, SHA-2 i SHA-3, gdzie skrót *SHA* oznacza z ang. *Secure Hash Algorithm*. Standaryzacją zajmuje się organizacja NIST (*National Institute of Standards and Technology*) ulokowana w USA. Mało popularny SHA-0 oraz znacznie popularniejszy SHA-1 są **niezalecane do użycia**. Zostały złamane. SHA-2 i SHA-3 to już nie pojedyncze funkcje skrótu, ale raczej ich rodziny. Oznaczenie SHA-256 mówi nam o funkcji skrótu z rodziny SHA-2 zwracającej 256 bitowy skrót. Analogicznie SHA3-256. Najbardziej popularne długości skrótu (choć oczywiście nie jedyne) to 256 i 512 bitów. Standardy SHA które nie zostały złamane i zaleca się je do użycia określamy mianem SHS (z ang. *Secure Hash Standard*)."
   ]
  },
  {
   "cell_type": "markdown",
   "metadata": {
    "id": "wlNKr6pwAUwg"
   },
   "source": [
    "## SHA-3\n",
    "\n",
    "Po serii udanych ataków na funkcję SHA-1, które miały miejsce w 2004 i 2005 roku, świat został z w zasadzie jednym standardem, SHA-2. NIST i specjaliści z całego świata byli zgodni, że to ryzykowane nie mieć żadnej bezpiecznej alternatywy - stąd w 2007 roku ogłoszono konkurs na SHA-3. Konkurs miał 3 rundy i trwał dość długo, bo wpłynęły aż 64 zgłoszenia. Ostatecznie w 2012 roku ogłoszono, że zwycięzcą został algorytm Keccaka i to on stał się nowym standardem, SHA-3. Dzisiaj go zaprogramujemy.\n",
    "\n",
    "Czy SHA-3 jest trudny do zaprogramowania? Powiem tak. Moim zdaniem, korzystając tylko z dokumentacji twórców trochę tak, bo jest kilka małych pułapek. Dlatego opiszę Ci krok po kroku co powinno się zrobić i będzie nieco łatwiej.\n",
    "\n",
    "Dla zainteresowanych przydatne linki: [strona twórców](https://keccak.team/keccak_specs_summary.html), [NIST FIPS PUB 202](https://nvlpubs.nist.gov/nistpubs/FIPS/NIST.FIPS.202.pdf) i ostatnia, **ważna** która przyda nam się na końcu ćwiczeń: [debug data](https://csrc.nist.gov/Projects/cryptographic-standards-and-guidelines/example-values) - interesuje nas wiersz SHA3-512 z tabeli.\n",
    "\n"
   ]
  },
  {
   "cell_type": "markdown",
   "metadata": {
    "id": "AfmSrvTFOE6F"
   },
   "source": [
    "### Krok 1 - stałe\n",
    "\n",
    "SHA-3 jest bardzo wszechstronny, pozwala dopasować wersję algorytmu do długości słowa bitowego obsługiwanego przez nasz procesor. Dla najbardziej popularnej długości obecnie, czyli 64 bity, stosuje się wersję algorytmu zwaną Keccak-1600. Można stosować inne, opisane w NIST FIPS PUB 202, ale my kierujemy się wydajnością. 1600 oznacza, że w każdej rundzie algorytmu będziemy operować na 1600 bitach danych, a więc 200 bajtach. Ta liczba oczywiście jest nieprzypadkowa. Zauważ, że 200 bajtów, to dokładnie 25 słów bitowych, każde po 64 bity. Te 25 słów bitowych formowane jest w dwuwymiarową tablicę 5x5. Ta tablica zwana jest przez twórców *State*.\n",
    "\n",
    "No dobrze, ale jak się do tego ma wiadomość? Tutaj z pomocą przychodzą dwie stałe: $r$ oraz $c$ opisane [tu](https://keccak.team/keccak.html). Stała $r$ oznacza *bit rate*, $c$ *capacity*, a ich wartości zależą od tego, jaką wersję algorytmu SHA-3 zastosujemy (my skupimy się na SHA3-512). SHA-3 działa na zasadzie funkcji gąbki, to znaczy w pętli głównej wchłaniana jest odpowiednia liczba bitów wiadomości do tablicy state, wykonujemy odpowiednie obliczenia, wchłaniamy kolejną porcję, liczymy itd. W naszym przypadku $r = 576$ bitów, a więc 72 bajty. $c$ to po prostu uzupełnienie, zauważ, że wchłaniana liczba bitów jest mniejsza niż rozmiar State, stąd dla $c = 1024$, $r + c = 1600$.\n",
    "\n",
    "$n$ oznacza liczbę rund. Po wchłonięciu porcji danych $n$ razy wykonujemy zestaw funkcji opisanych przez twórców (o których później), gdzie $n = 12 + 2l$. Z tabeli 1 w dokumentacji NIST można wyczytać, że dla wersji Keccak-1600, $l = 6$, a więc nasza liczba rund to $n = 24$.\n",
    "\n",
    "$RC$ to tablica 24 stałych, po jednej dla każdej z 24 rund, natomiast $rotations$ to tablica wartości, która mówi nam o ile mamy rotować słowo bitowe. Jest ona potrzebna w jednej funkcji z zestawu przedstawionego przez twórców.\n",
    "\n",
    "Zadeklarujmy nasze stałe. Dla wygody wartości $r$ oraz $c$ zadeklarujemy jako liczbę bajtów. "
   ]
  },
  {
   "cell_type": "code",
   "execution_count": 1,
   "metadata": {
    "id": "4hrOMGGATVG9"
   },
   "outputs": [],
   "source": [
    "n = 24\n",
    "r = 576 // 8\n",
    "c = 1024 // 8\n",
    "\n",
    "RC = [0x0000000000000001,\n",
    "      0x0000000000008082,\n",
    "      0x800000000000808A,\n",
    "      0x8000000080008000,\n",
    "      0x000000000000808B,\n",
    "      0x0000000080000001,\n",
    "      0x8000000080008081,\n",
    "      0x8000000000008009,\n",
    "      0x000000000000008A,\n",
    "      0x0000000000000088,\n",
    "      0x0000000080008009,\n",
    "      0x000000008000000A,\n",
    "      0x000000008000808B,\n",
    "      0x800000000000008B,\n",
    "      0x8000000000008089,\n",
    "      0x8000000000008003,\n",
    "      0x8000000000008002,\n",
    "      0x8000000000000080,\n",
    "      0x000000000000800A,\n",
    "      0x800000008000000A,\n",
    "      0x8000000080008081,\n",
    "      0x8000000000008080,\n",
    "      0x0000000080000001,\n",
    "      0x8000000080008008]\n",
    "\n",
    "rotations = [[0, 36, 3, 41, 18], [1, 44, 10, 45, 2], [62, 6, 43, 15, 61], [28, 55, 25, 21, 56], [27, 20, 39, 8, 14]]"
   ]
  },
  {
   "cell_type": "markdown",
   "metadata": {
    "id": "EodJOWLNMsN4"
   },
   "source": [
    "### Krok 2 - Padding\n",
    "\n",
    "Zauważ, że w każdej głównej iteracji algorytmu wchłaniamy 72 bajty wiadomości (wartość $r$). Jest bardzo mało prawdopodobne, że nasza wiadomość będzie akurat miała długość w bajtach równą 72 lub wielokrotności 72. Tutaj z pomocą przychodzi *padding*, czyli uzupełnianie wiadomości do wymaganej długości. Wskazówka: jako *wiadomość* rozum ciąg bajtów, czyli *bytearray* z którym będziemy robić sporo rzeczy.\n",
    "\n",
    "SHA-3 stosuje metodę pad10*1, czyli w zamyśle dołącz do wiadomości bit 1, następnie odpowiednią liczbę bitów 0 i zamknij ciąg bitem 1. W SHA-3 ten algorytm jest wzbogacony o stałą 0x06:\n",
    "\n",
    "1) Oblicz q = r - (len(msg) mod r). Zauważ, że $r$ i $len(m)$ zwracają długości w bajtach.\n",
    "\n",
    "2) Jeżeli q = 1 wykonaj: dołącz do wiadomości bajt 0x81.\n",
    "\n",
    "3) Jeżeli q = 2 wykonaj: dołącz do wiadomości bajt 0x06, a następnie dołącz do wiadomości bajt 0x80.\n",
    "\n",
    "4) Jeżeli q > 2 wykonaj: dołącz do wiadomości bajt 0x06, następnie dołącz do wiadomości dokładnie $q - 2$ bajty 0x00 i na końcu dołącz do wiadomości bajt 0x80.\n",
    "\n",
    "Sprawdź reprezentację bitową 0x80 oraz 0x81, jak wspominałem stała 0x06 to już dodatek autorów. Czy widzisz w powyższym algorytmie coś dziwnego? Jakiego porządku bitów używa SHA-3? W każdym przypadku, po operacji paddingu len(msg) powinno być wielokrotnością 72."
   ]
  },
  {
   "cell_type": "markdown",
   "metadata": {
    "id": "W5To137vWc3N"
   },
   "source": [
    "**Zadanie 1**\n",
    "\n",
    "Napisz ciało metody pad10*1. Parametrem metody jest tablica bajtów wiadomości (bytearray)."
   ]
  },
  {
   "cell_type": "code",
   "execution_count": 2,
   "metadata": {
    "id": "6HMzphulBVFS"
   },
   "outputs": [],
   "source": [
    "def pad(msg):\n",
    "    q = r - (len(msg) % r) # number of missing bytes\n",
    "\n",
    "    if q == 1:\n",
    "        msg.append(0x81)\n",
    "    elif q == 2:\n",
    "        msg.append(0x06)\n",
    "        msg.append(0x80)\n",
    "    elif q > 2:\n",
    "        msg.append(0x06)\n",
    "        for i in range(q-2):\n",
    "            msg.append(0x00)\n",
    "        msg.append(0x80)\n",
    "\n",
    "    return msg"
   ]
  },
  {
   "cell_type": "markdown",
   "metadata": {
    "id": "KSPS48JSXTt7"
   },
   "source": [
    "### Krok 3 - funkcje pomocnicze\n",
    "\n",
    "Będziemy potrzebowali operować na wartości State na dwa sposoby: raz jako na tablicy bajtów o długości 1600 (potrzebne przy wchłanianiu danych), a raz jako na dwuwymiarowej tablicy 64-bitowych słów o rozmiarach 5x5 (potrzebne w dalszej części). Musimy napisać łącznie trzy funkcje pomocnicze:\n",
    "\n",
    "1) convertToInts(state) - ta funkcja powinna pobierać State w formie wektora bajtów i zwracać tablicę 5x5. Algorytm jest taki, że licząc od początku pobieramy po 8 bajtów (64 bity) i przypisujemy do nowego State'a (oznaczmy go jako State'), ale uwaga, dane układamy wierszami. A więc bajty 0-7 wektora State konwertujemy na liczbę i przypisujemy do State'[0][0], bajty 8-15 ze State przypisujemy jako liczbę do State'[1][0] itd. Dodatkowo, konwertując bajty na liczby używamy porządku **Little Endian**.\n",
    "\n",
    "2) convertToBytes(state) - ta funkcja pobiera State jako dwuwymiarową tablicę i konwertuje z poworotem na wektor bajtów State' (nowy State). Dane również pobieramy wierszami i dekodujemy w porządku **Little Endian**. A więc liczba przechowywana w State[0][0] jest kodowana jako 8 pierwszych bajtów State', liczba w State[1][0] jako 8 kolejnych bajtów itd. Czyli robimy funkcję odwrotną do poprzedniej. Funkcja zwraca State' o rozmiarze 1600 bajtów.\n",
    "\n",
    "\n",
    "3) rot(a, b) - ta funkcja dokonuje bitowej rotacji 64 bitowej liczby $a$ w lewo o $b$ bitów."
   ]
  },
  {
   "cell_type": "markdown",
   "metadata": {
    "id": "AskmpirVaKUr"
   },
   "source": [
    "**Zadanie 2**\n",
    "\n",
    "Uzupełnij ciała metod convertToBytes oraz convertToInts zgodnie z powyższym opisem."
   ]
  },
  {
   "cell_type": "code",
   "execution_count": 3,
   "metadata": {
    "id": "4wZLyuXoX26t"
   },
   "outputs": [],
   "source": [
    "def convertToInts(state):\n",
    "    state2 = [[0,0,0,0,0],\n",
    "                [0,0,0,0,0],\n",
    "                [0,0,0,0,0],\n",
    "                [0,0,0,0,0],\n",
    "                [0,0,0,0,0]]\n",
    "    for j in range(5):\n",
    "        for i in range(5):\n",
    "            state2[i][j] = int.from_bytes(state[(40*j+8*i):(40*j+8*i+8)], \"little\")\n",
    "    return state2\n",
    "           \n",
    "\n",
    "def convertToBytes(state):\n",
    "    state2 = bytearray(0)\n",
    "    for j in range(5):\n",
    "        for i in range(5):\n",
    "            state2 = state2 + state[i][j].to_bytes(8, \"little\")\n",
    "    return state2\n",
    "\n",
    "def rot(a, b):\n",
    "    return int(f\"{a:064b}\"[b:] + f\"{a:064b}\"[:b], 2)"
   ]
  },
  {
   "cell_type": "markdown",
   "metadata": {
    "id": "qeuomyBScMxn"
   },
   "source": [
    "### Krok 4 - permutacje\n",
    "\n",
    "SHA-3 wykorzystuje zestaw pięciu permutacji, które wykorzystywane są w każdej pojedynczej rundzie (*rundzie*, nie iteracji pętli głównej algorytmu). Nie są one skomplikowane, dlatego nie będziemy pisali oddzielnej funkcji do każdej z nich. Każda z nich korzysta ze State'a jako tablicy liczby 5x5.\n",
    "\n",
    "1) Krok $Θ$ wykonaj:\n",
    "- C[i] = state[i][0] xor state[i][1] xor state[i][2] xor state[i][3] xor state[i][4] dla i = 0,...,4. C to wektor pomocniczy.\n",
    "- D[i] = C[i-1] xor rot(C[i+1], 1) dla i = 0,...,4, D to wektor pomocniczy.\n",
    "- state[i][j] = state[i][j] xor D[i], dla i,j = 0,...,4.\n",
    "\n",
    "2) Kroki $ρ$ oraz $π$ wykonaj: B[j][2 * i + 3 * j] = rot(state[i][j], rotations[i][j]), B to zmienna pomocnicza.\n",
    "\n",
    "3) Krok $Χ$ wykonaj: state[i][j] = B[i][j] xor ((~B[i + 1][j]) & B[i + 2][j]).\n",
    "\n",
    "4) Krok $ι$ wykonaj: state[0][0] = state[0][0] xor RC. RC to stała, którą będziemy przekazywać do funkcji realizującej te permutacje."
   ]
  },
  {
   "cell_type": "markdown",
   "metadata": {
    "id": "b6u89lmAfuvl"
   },
   "source": [
    "Ostatecznie mamy do napisania dwie funkcje w pythonie: *compute* i *oneRound*.\n",
    "\n",
    "Funkcja *compute(state)* przyjmuje jako parametr State w formie wektora bajtów i wykonuje następujące czynności:\n",
    "\n",
    "1) Przekonwertuj State do formy tablicy liczb.\n",
    "\n",
    "2) Wykonuj *state = oneRound(state, RC[i])* dla i = 0,...,n-1\n",
    "\n",
    "3) Przekonwertuj State do wektora bajtów.\n",
    "\n",
    "4) Zwróc State.\n",
    "\n",
    "Funkcja *oneRound(state, RC)* wykonuje obliczenia dla pojedynczej rundy:\n",
    "\n",
    "1) Utwórz niezbędne zmienne pomocnicze.\n",
    "\n",
    "2) Wykonaj krok $Θ$.\n",
    "\n",
    "3) Wykonaj kroki $ρ$ oraz $π$.\n",
    "\n",
    "4) Wykonaj krok $Χ$.\n",
    "\n",
    "5) Wykonaj krok $ι$.\n",
    "\n",
    "6) Zwróć State."
   ]
  },
  {
   "cell_type": "markdown",
   "metadata": {
    "id": "_owGLju_h3Od"
   },
   "source": [
    "**Zadanie 3**\n",
    "\n",
    "Uzupełnij ciała metod *compute* i *oneRound* zgodnie z algorytmem opisanym powyżej."
   ]
  },
  {
   "cell_type": "code",
   "execution_count": 4,
   "metadata": {
    "id": "yuKdhlW3fb7M"
   },
   "outputs": [],
   "source": [
    "def compute(state):\n",
    "    state = convertToInts(state)\n",
    "    for i in range(n):\n",
    "        state = oneRound(state, RC[i])\n",
    "    state = convertToBytes(state)\n",
    "\n",
    "    return state\n",
    "\n",
    "def oneRound(state, RC):\n",
    "    B=[[0,0,0,0,0],\n",
    "           [0,0,0,0,0],\n",
    "           [0,0,0,0,0],\n",
    "           [0,0,0,0,0],\n",
    "           [0,0,0,0,0]]\n",
    "    C= [0,0,0,0,0]\n",
    "    D= [0,0,0,0,0]\n",
    "\n",
    "    # krok Θ\n",
    "    for i in range(5):\n",
    "        C[i] = state[i][0] ^ state[i][1] ^ state[i][2] ^ state[i][3] ^ state[i][4]\n",
    "  \n",
    "    for i in range(5):\n",
    "        D[i] = C[i-1] ^ rot(C[(i+1)%5], 1)\n",
    "\n",
    "    for j in range(5):\n",
    "        for i in range(5):\n",
    "            state[i][j] = state[i][j] ^ D[i]\n",
    "    \n",
    "    # kroki ρ oraz π\n",
    "    for i in range(5):\n",
    "        for j in range(5):\n",
    "            B[j][(2*i + 3*j)%5] = rot(state[i][j], rotations[i][j])\n",
    "    \n",
    "    # krok Χ\n",
    "    for i in range(5):\n",
    "        for j in range(5):\n",
    "            state[i][j] = B[i][j] ^ ((~B[(i + 1)%5][j]) & B[(i + 2)%5][j])\n",
    "    \n",
    "    # krok ι\n",
    "    state[0][0] = state[0][0] ^ RC\n",
    "\n",
    "    return state"
   ]
  },
  {
   "cell_type": "markdown",
   "metadata": {
    "id": "4NTQeHwJiR30"
   },
   "source": [
    "### Krok 5 - główna pętla algorytmu\n",
    "\n",
    "Wreszcie możemy napisać funkcję główną liczącą skrót *sha3-512*. Przyjmuje ona jako parametr bajty wiadomości $m$ i zwraca bajty skrótu:\n",
    "\n",
    "1) Dokonaj paddingu wiadomości.\n",
    "\n",
    "2) Wchłoń $r$ bajtów wiadomości do State'a. \"Wchłanianie\" oznacza tu operację XOR kolejnych bajtów wiadomości z $r$ początkowymi bajtami State'a.\n",
    "\n",
    "3) Wywołaj metodę *compute(state)*.\n",
    "\n",
    "4) Powtarzaj kroki 2 i 3 dopóki cała wiadomość nie zostanie wchłonięta.\n",
    "\n",
    "5) Zwróć pierwsze 64 bajty State'a. To jest nasz 512-bitowy skrót."
   ]
  },
  {
   "cell_type": "code",
   "execution_count": 5,
   "metadata": {
    "id": "zuldPFoOktqs"
   },
   "outputs": [],
   "source": [
    "def sha3_512(m):\n",
    "    m = pad(m)\n",
    "    state = bytearray(r)\n",
    "    for i in range(len(m)//r):\n",
    "        for j in range(r):\n",
    "            state[j] = state[j] ^ m[i*r+j]\n",
    "        state = compute(state)\n",
    "    return state[:64]"
   ]
  },
  {
   "cell_type": "markdown",
   "metadata": {
    "id": "e1w8TPGWjwqe"
   },
   "source": [
    "**Zadanie 4**\n",
    "\n",
    "Uzupełnij kod poniższej metody tak, aby zwracała skrót z wiadomości. Przetestuj tę metodę, czy działa prawidłowo. Tablicę bajtów przez nią zwróconą trzeba przekonwertować na ciąg znaków hexadecymalnych i wypisać na ekranie. Przetestuj funkcję dla poniższych ciągów znakowych:\n",
    "\n",
    "1) \"\"\n",
    "\n",
    "2) \"aaaaaaaaaaaaaaaaaaaaaaaaaaaaaaaaaaaaaaaaaaaaaaaaaaaaaaaaaaaaaaaaaaaaaaaa\"\n",
    "\n",
    "3) \"aaaaaaaaaaaaaaaaaaaaaaaaaaaaaaaaaaaaaaaaaaaaaaaaaaaaaaaaaaaaaaaaaaaaaaaaaaaaaaaa\"\n",
    "\n",
    "Porównaj, czy skróty zgadzają się ze zwróconymi z [tego](https://www.browserling.com/tools/sha3-hash) kalkulatora lub zaimportuj bibliotekę hashlib i porównaj swoje wyniki z jej wynikami."
   ]
  },
  {
   "cell_type": "code",
   "execution_count": 6,
   "metadata": {
    "id": "jXHijtPGky-3",
    "tags": []
   },
   "outputs": [
    {
     "name": "stdout",
     "output_type": "stream",
     "text": [
      "Wynik dla '':\n",
      "a69f73cca23a9ac5c8b567dc185a756e97c982164fe25859e0d1dcc1475c80a615b2123af1f5f94c11e3e9402c3ac558f500199d95b6d3e301758586281dcd26\n",
      "Wynik dla 'aaaaaaaaaaaaaaaaaaaaaaaaaaaaaaaaaaaaaaaaaaaaaaaaaaaaaaaaaaaaaaaaaaaaaaaa':\n",
      "a8ae722a78e10cbbc413886c02eb5b369a03f6560084aff566bd597bb7ad8c1ccd86e81296852359bf2faddb5153c0a7445722987875e74287adac21adebe952\n",
      "Wynik dla 'aaaaaaaaaaaaaaaaaaaaaaaaaaaaaaaaaaaaaaaaaaaaaaaaaaaaaaaaaaaaaaaaaaaaaaaaaaaaaaaa':\n",
      "208c7a62579fc826dd6be329089bba5e782f01a2ca3d9890a583042560164e97eda638108d69cc965aa8c6c073256717d9c4985921f43544a7a5675148b13c1f\n"
     ]
    }
   ],
   "source": [
    "# TESTS\n",
    "test = ['', 'aaaaaaaaaaaaaaaaaaaaaaaaaaaaaaaaaaaaaaaaaaaaaaaaaaaaaaaaaaaaaaaaaaaaaaaa', 'aaaaaaaaaaaaaaaaaaaaaaaaaaaaaaaaaaaaaaaaaaaaaaaaaaaaaaaaaaaaaaaaaaaaaaaaaaaaaaaa']\n",
    "results = ['a69f73cca23a9ac5c8b567dc185a756e97c982164fe25859e0d1dcc1475c80a615b2123af1f5f94c11e3e9402c3ac558f500199d95b6d3e301758586281dcd26',\n",
    "           'a8ae722a78e10cbbc413886c02eb5b369a03f6560084aff566bd597bb7ad8c1ccd86e81296852359bf2faddb5153c0a7445722987875e74287adac21adebe952',\n",
    "           '208c7a62579fc826dd6be329089bba5e782f01a2ca3d9890a583042560164e97eda638108d69cc965aa8c6c073256717d9c4985921f43544a7a5675148b13c1f']\n",
    "\n",
    "for msg, res in zip(test, results):\n",
    "    m = bytearray()\n",
    "    m.extend(map(ord, msg))\n",
    "    out = sha3_512(m)\n",
    "\n",
    "    # convert out to hexadecimal string and print it\n",
    "    out = out.hex()\n",
    "    print(f\"Answer for '{msg}':\")\n",
    "    print(out)\n",
    "    \n",
    "    assert out == res, f\"Wrong answer for '{msg}'! Correct answer: '{res}'.\""
   ]
  },
  {
   "cell_type": "markdown",
   "metadata": {
    "id": "xKc39ziTpnPK"
   },
   "source": [
    "**Zadanie 5**\n",
    "\n",
    "Porównaj szybkość działania Twojej implementacji SHA3-512 z implementacjami SHA3-512 oraz SHA-512 dostępnymi w bibliotece hashlib. Postaraj się aby porównanie uwzględniało zarówno dane bardzo małe, jak i duże (na ile Ci pozwoli collab), a wyniki przedstaw na wykresie."
   ]
  },
  {
   "cell_type": "code",
   "execution_count": 7,
   "metadata": {},
   "outputs": [],
   "source": [
    "import time\n",
    "import numpy as np\n",
    "import pandas as pd\n",
    "import hashlib\n",
    "import matplotlib.pyplot as plt"
   ]
  },
  {
   "cell_type": "code",
   "execution_count": 8,
   "metadata": {},
   "outputs": [],
   "source": [
    "data = ['',\n",
    "     'asdfghjk',\n",
    "     '123456789olxcvbnmnbvfdfghjk',\n",
    "     '1234r5tyuiolkjhgfewqertyhujhbgfd',\n",
    "     'qwertyujhgfdsxdfgbnbvbhytfcxzsrfghjkmnbgfvcdszxcvbnmjhgvcdsdfghbnvc',\n",
    "     'ikmjyhbgfrdfcdswsz65653548674q5tyrhsfgdhfhbfgfsjgfjdfgdshngfmhgjmnhbvfdsafghjkj,mhngbfvczxcwegnfjibfiajgvdgdfxnbvdcaszxvgf',\n",
    "     'bhsguorfaefvndajiscznxsajidhnawfu8acilmanvubyt8nwicmdxcfvanyntvunhtj9gbimkdowfmegrhyjhnbmgifkdsztdytfcuyjngbfdsazxcvghjuytresdxcvbnjhuytfghjsfdghdfxchgvh',\n",
    "     'oikjmhnytrgfdcwedsaqwsaerdfgctrfghbuyjhlikjmhdfghjlikyujthytreytuijhtrw34567uyfvg6twediujhdfghdcfghjnhbgvfcvbnujhythdgjnrtasgfxyjfgtarshfxiutjhnfesfgxkmnfgdxfgchkjhysrhfsrh']\n",
    "\n",
    "my_impl_array = []\n",
    "lib_impl_array = []"
   ]
  },
  {
   "cell_type": "code",
   "execution_count": 9,
   "metadata": {},
   "outputs": [],
   "source": [
    "for msg in data:\n",
    "    m = bytearray()\n",
    "    m.extend(map(ord, msg))\n",
    "    \n",
    "    # mój algorytm\n",
    "    start = time.time()\n",
    "    out = sha3_512(m)\n",
    "    out = out.hex()\n",
    "    my_impl_array.append([len(msg), time.time()-start])\n",
    "    \n",
    "    # hashlib\n",
    "    start = time.time()\n",
    "    out = hashlib.sha3_512(m)\n",
    "    out = out.hexdigest()\n",
    "    lib_impl_array.append([len(msg), time.time()-start])\n",
    "    \n",
    "my_impl_data = pd.DataFrame(my_impl_array, columns=['length', 'time'])\n",
    "lib_impl_data = pd.DataFrame(lib_impl_array, columns=['length', 'time'])"
   ]
  },
  {
   "cell_type": "code",
   "execution_count": 10,
   "metadata": {},
   "outputs": [
    {
     "data": {
      "image/png": "[encoded data removed]",
      "text/plain": [
       "<Figure size 640x480 with 1 Axes>"
      ]
     },
     "metadata": {},
     "output_type": "display_data"
    }
   ],
   "source": [
    "plt.plot(my_impl_data['length'], my_impl_data['time'], label='My implementation')\n",
    "plt.plot(lib_impl_data['length'], lib_impl_data['time'], label='Hashlib implementation')\n",
    "\n",
    "plt.legend()\n",
    "plt.show()"
   ]
  },
  {
   "cell_type": "markdown",
   "metadata": {
    "id": "YcRhMDB6t9_z"
   },
   "source": [
    "**Zadanie 6**\n",
    "\n",
    "Przerób powyższy kod tak, aby stał się funkcją SHA3-256."
   ]
  },
  {
   "cell_type": "code",
   "execution_count": 11,
   "metadata": {},
   "outputs": [],
   "source": [
    "r = 1088 // 8\n",
    "c = 512 // 8"
   ]
  },
  {
   "cell_type": "code",
   "execution_count": 12,
   "metadata": {},
   "outputs": [],
   "source": [
    "def sha3_256(m):\n",
    "    m = pad(m)\n",
    "    state = bytearray(r)\n",
    "    for i in range(len(m)//r):\n",
    "        for j in range(r):\n",
    "            state[j] = state[j] ^ m[i*r+j]\n",
    "        state = compute(state)\n",
    "    return state[:32]"
   ]
  },
  {
   "cell_type": "code",
   "execution_count": 13,
   "metadata": {},
   "outputs": [
    {
     "name": "stdout",
     "output_type": "stream",
     "text": [
      "Wynik dla '':\n",
      "a7ffc6f8bf1ed76651c14756a061d662f580ff4de43b49fa82d80a4b80f8434a\n",
      "Wynik dla 'aaaaaaaaaaaaaaaaaaaaaaaaaaaaaaaaaaaaaaaaaaaaaaaaaaaaaaaaaaaaaaaaaaaaaaaa':\n",
      "faf7e2ca748a48eff17f1f0c6b495ab3f2c3dd34c8d335aee79ceff5fe780a01\n",
      "Wynik dla 'aaaaaaaaaaaaaaaaaaaaaaaaaaaaaaaaaaaaaaaaaaaaaaaaaaaaaaaaaaaaaaaaaaaaaaaaaaaaaaaa':\n",
      "8764aa02abb656c98ecd79c0085479f10126e9aba87d04dbde4fc59778a869fc\n"
     ]
    }
   ],
   "source": [
    "# TESTS\n",
    "test = ['', 'aaaaaaaaaaaaaaaaaaaaaaaaaaaaaaaaaaaaaaaaaaaaaaaaaaaaaaaaaaaaaaaaaaaaaaaa', 'aaaaaaaaaaaaaaaaaaaaaaaaaaaaaaaaaaaaaaaaaaaaaaaaaaaaaaaaaaaaaaaaaaaaaaaaaaaaaaaa']\n",
    "results = ['a7ffc6f8bf1ed76651c14756a061d662f580ff4de43b49fa82d80a4b80f8434a',\n",
    "           'faf7e2ca748a48eff17f1f0c6b495ab3f2c3dd34c8d335aee79ceff5fe780a01',\n",
    "           '8764aa02abb656c98ecd79c0085479f10126e9aba87d04dbde4fc59778a869fc']\n",
    "\n",
    "for msg, res in zip(test, results):\n",
    "    m = bytearray()\n",
    "    m.extend(map(ord, msg))\n",
    "    out = sha3_256(m)\n",
    "\n",
    "    # convert out to hexadecimal string and print it\n",
    "    out = out.hex()\n",
    "    print(f\"Answer for '{msg}':\")\n",
    "    print(out)\n",
    "    \n",
    "    assert out == res, f\"Wrong answer for '{msg}'! Correct answer: '{res}'.\""
   ]
  }
 ],
 "metadata": {
  "colab": {
   "provenance": []
  },
  "kernelspec": {
   "display_name": "Python 3 (ipykernel)",
   "language": "python",
   "name": "python3"
  },
  "language_info": {
   "codemirror_mode": {
    "name": "ipython",
    "version": 3
   },
   "file_extension": ".py",
   "mimetype": "text/x-python",
   "name": "python",
   "nbconvert_exporter": "python",
   "pygments_lexer": "ipython3",
   "version": "3.10.4"
  }
 },
 "nbformat": 4,
 "nbformat_minor": 4
}
