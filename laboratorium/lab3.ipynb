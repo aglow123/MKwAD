{
  "nbformat": 4,
  "nbformat_minor": 0,
  "metadata": {
    "colab": {
      "provenance": [],
      "collapsed_sections": [
        "2qE7Uzp2xXKM",
        "wae-whoNGlz_"
      ]
    },
    "kernelspec": {
      "name": "python3",
      "display_name": "Python 3"
    },
    "language_info": {
      "name": "python"
    },
    "accelerator": "GPU",
    "gpuClass": "standard"
  },
  "cells": [
    {
      "cell_type": "markdown",
      "source": [
        "# RSA\n",
        "\n",
        "Rivest Shamir Adleman (RSA) jest jednym z pierwszych algorytmów asymetrycznych. Został zaprojektowany w 1977 roku i jest używany do dzisiejszego dnia. Zyskał akceptację zarówno NISTu jak i organizacji ISO/IEC oraz RFC. RSA posiada parę kluczy - publiczny oraz prywatny. Publiczny klucz może być znany każdemu i służy on do operacji szyfrowania. Klucz prywatny jest znany tylko i wyłącznie instancji, która klucze generowała. Ta sama instancja jako jedna jedyna ma możliwość odszyfrowania kryptogramów.\n",
        "\n",
        "RSA umożliwia także tworzenie podpisów cyfrowych (z ang *Digital Signatures*, czyli *DS*). Podpis cyfrowy to dodatkowy blok informacji dołączony do wiadomości, który zapewnia:\n",
        "1. *Integrity* - integralność wiadomości, czyli potwierdzenie, że nie była ona w żaden sposób modyfikowana.\n",
        "2. *Authentication* - autentykacje podpisującego, czyli potwierdzenie jego tożsamości.\n",
        "3. *Non-repudiation* - czyli wysyłający podpisaną wiadomość nie ma możliwości zaprzeczenia faktu, że to on ją podpisał, natomiast otrzymujący wiadomość nie ma możliwości zaprzeczenia faktu, iż to on ją zweryfikował. \n",
        "\n",
        "Samo haszowanie wiadomości zapewnia tylko *integirty*, natomiast utworzenie kodu MAC (*Message Authentiaction Code*) zapewnia jedynie *integrity* oraz *authentiaction*.\n",
        "\n",
        "Tworzenie podpisu cyfrowego z wykorzystaniem RSA wygląda odwrotnie niż komunikacja szyfrowana. To znaczy: podpis tworzony jest z wykorzystaniem klucza prywatnego - a więc tylko instancja generująca klucze może wiadomość podpisać. Weryfikacja odbywa się z wykorzystaniem klucza publicznego - czyli każda instancja, której nasz klucz udostępnimy, może podpis zweryfikować. \n",
        "\n",
        "Na początek zaimportujmy niezbędne biblioteki."
      ],
      "metadata": {
        "id": "O4N_EaD6qK27"
      }
    },
    {
      "cell_type": "code",
      "source": [
        "!pip install pycryptodome\n",
        "import Crypto.Util.number as cu\n",
        "import hashlib as hl\n",
        "import math"
      ],
      "metadata": {
        "id": "F7OxWY2Mz7BD",
        "colab": {
          "base_uri": "https://localhost:8080/"
        },
        "outputId": "a2f492c8-e44b-40fc-e3e2-6e9bbab874e8"
      },
      "execution_count": 1,
      "outputs": [
        {
          "output_type": "stream",
          "name": "stdout",
          "text": [
            "Looking in indexes: https://pypi.org/simple, https://us-python.pkg.dev/colab-wheels/public/simple/\n",
            "Collecting pycryptodome\n",
            "  Downloading pycryptodome-3.17-cp35-abi3-manylinux_2_17_x86_64.manylinux2014_x86_64.whl (2.1 MB)\n",
            "\u001b[2K     \u001b[90m━━━━━━━━━━━━━━━━━━━━━━━━━━━━━━━━━━━━━━━━\u001b[0m \u001b[32m2.1/2.1 MB\u001b[0m \u001b[31m48.8 MB/s\u001b[0m eta \u001b[36m0:00:00\u001b[0m\n",
            "\u001b[?25hInstalling collected packages: pycryptodome\n",
            "Successfully installed pycryptodome-3.17\n"
          ]
        }
      ]
    },
    {
      "cell_type": "markdown",
      "source": [
        "**Zadanie 1**\n",
        "\n",
        "Odpowiedz na poniższe pytania. Rozważ sytuację, w której dwie instancje komunikują się ze sobą, a trzecia próbuje dokonywać nieautoryzowanych zmian w treści wiadomości na drodze jej przesyłu.\n",
        "1. Dlaczego haszowanie zapewnia tylko integrity? Podpowiedź: czy haszowanie uwzględnia jakikolwiek klucz prywatny?\n",
        "2. Dlaczego kod MAC nie zapewnia *non-repudiation*? Co (niepożądanego) może dokonać odbierający wiadomość i atakujący komunikację? Podpowiedź: czy kody MAC, w szczególności popularny kod HMAC - który zakłada użycie klucza prywatnego - w jakikolwiek sposób weryfikuje KTO i DO CZEGO go użył? Kto dysponuje, a kto NIE dysponuje kluczem prywatnym HMAC?\n",
        "3. Dlaczego podpis cyfrowy zapewnia wszystkie te trzy cechy?"
      ],
      "metadata": {
        "id": "64vuvjiEuP3M"
      }
    },
    {
      "cell_type": "markdown",
      "source": [
        "1. Haszowanie zapewnia tylko *integrity*, ponieważ nie uwzględnia klucza prywatnego. Funkcja haszująca generuje unikalną wartość dla określonej wiadomości, a ta sama wiadomość zawsze daje ten sam wyniki.\n",
        "\n",
        "2. Kody MAC nie zapewniają *non-repudiation*, ponieważ nie są w stanie określić, kto dokładnie utworzył i przesłał wiadomość. Odbiorca wiadomości oraz atakujący komunikację mogą dysponować kluczem prywatnym, który umożliwia tworzenie i weryfikowanie kodów MAC. W przypadku popularnego kodu HMAC, klucz prywatny jest znany tylko nadawcy i odbiorcy, ale nie jest w stanie określić, kto dokładnie użył klucza prywatnego w procesie generowania kodu MAC.\n",
        "\n",
        "3. Podczas tworzenia podpisu cyfrowego, używany jest klucz prywatny, który tylko nadawca zna, co zapewnia *authentication*. Podczas procesu weryfikacji podpisu, odbiorca jest w stanie wykryć każdą zmianę w wiadomości, ponieważ zmiana ta zmieni wartość funkcji haszującej, co zapewnia *integrity*. Podpis cyfrowy zapewnia również *non-repudiation*, ponieważ proces weryfikacji podpisu wymaga klucza publicznego, który jest znany odbiorcy. To oznacza, że odbiorca ma dowód na to, że wiadomość została podpisana przez określonego nadawcę, a nadawca nie może zaprzeczyć, że podpisał tę wiadomość."
      ],
      "metadata": {
        "id": "WAiTEWVr4tQS"
      }
    },
    {
      "cell_type": "markdown",
      "source": [
        "## Generowanie kluczy\n",
        "\n",
        "Algorytm generowania kluczy RSA może zostać przedstawiony w następujący sposób:\n",
        "\n",
        "1) Znajdź dwie różne i kryptograficznie bezpieczne liczby pierwsze.\n",
        "\n",
        "2) Oblicz $n = p * q$.\n",
        "\n",
        "3) Oblicz $f = (p - 1) * (q - 1)$.\n",
        "\n",
        "4) Znajdź dowolne $e$, takie, że $1 < e < f$ oraz $GCD(f, e) = 1$. GCD to największy wspólny dzielnik. Para $(e, n)$ to jest **klucz publiczny**.\n",
        "\n",
        "5) Oblicz $d = e^{-1}$ mod $f$. Para $(d, n)$ to **klucz prywatny**, przy czym tajne jest tylko $d$. "
      ],
      "metadata": {
        "id": "2qE7Uzp2xXKM"
      }
    },
    {
      "cell_type": "markdown",
      "source": [
        "W ten sposób generowane parametry byłyby matematycznie poprawne, lecz kryptograficznie niebezpieczne. Ustalmy więc, że chcemy aby nasz klucz publiczny był odpwowiednio długi. Będzie to długość bitowa parametru $n$, oznaczmy ją jako $nlen = 2048$. Parametr $nlen$ zawsze przyjmuje parzyste wartości. Mając to założenie, musimy (**uwzględniając wszystkie założenia z algorytmu generowania kluczy**) dodatkowo zapewnić, że:\n",
        "\n",
        "1. $65537 ≤ e < 2^{256}$\n",
        "2. $LCM(p - 1, q - 1) \\geq e * 2^{nlen/2}$\n",
        "3. $2^{(nlen - 1)//2} < p < 2^{nlen/2}$\n",
        "4. $2^{(nlen - 1)//2} < q < 2^{nlen/2}$\n",
        "5. $|p - q| > 2^{(nlen/2) - 100}$\n",
        "\n",
        "Gdzie LCM oznacza *Least Common Multiple*, czyli najmniejszą wspólną wielokrotność. Funkcję LCM znajdziesz w bibliotece math. Do potęgowania **nie używaj** pythonowej notacji \"**\", tylko metody pow() - przetestuj obie te metody obliczania potęgi i porównaj wydajność (zadanie opcjonalne). Do obliczania wartości bezwzględnej użyj metody abs() - również standardowa metoda pythona. Resztę niezbędnych metod znajdziesz w bibliotece [Crypto.Util.number](https://pycryptodome.readthedocs.io/en/latest/src/util/util.html) zaimpoertowanej jako cu. Opis powyższych założeń możesz znaleźć w [tym](https://nvlpubs.nist.gov/nistpubs/SpecialPublications/NIST.SP.800-56Br2.pdf) dokumencie NIST-owym."
      ],
      "metadata": {
        "id": "1MRcuBhC0UHA"
      }
    },
    {
      "cell_type": "markdown",
      "source": [
        "**Zadanie 2**\n",
        "\n",
        "Uwzględniając wszystko powyższe, napisz metodę/metody generujące wartości $n$, $e$ oraz $d$."
      ],
      "metadata": {
        "id": "5inlXTklGGMv"
      }
    },
    {
      "cell_type": "code",
      "source": [
        "nlen = 2048\n",
        "p, q, f, e, d, n = 0, 0, 0, 0, 0, 0\n",
        "\n",
        "def find_primes():\n",
        "  global p, q\n",
        "  while(True):\n",
        "    p = cu.getPrime(nlen//2)\n",
        "    if (pow(2, (nlen-1)//2) < p) and (p < (1 << (nlen//2))):\n",
        "      break\n",
        "  while(True):\n",
        "    q = cu.getPrime(nlen//2)\n",
        "    if(q != p and (pow(2, (nlen-1)//2) < q) and (q < (1 << (nlen//2))) and (abs(p-q) > pow(2, (nlen/2)-100))):\n",
        "      break\n",
        "\n",
        "def public_key():\n",
        "  global e\n",
        "  while(True):\n",
        "    e = cu.getRandomInteger(256)\n",
        "    if(65537 <= e and e < pow(2, 256) and e < f and cu.GCD(f, e)==1 and (math.lcm(p-1, q-1) >= e * (1 << (nlen//2)))):\n",
        "      break\n",
        "\n",
        "def private_key():\n",
        "  global d\n",
        "  d = cu.inverse(e, f)\n",
        "\n",
        "def key():\n",
        "  global f, n\n",
        "  find_primes()\n",
        "  n = p * q\n",
        "  f = (p-1)*(q-1)\n",
        "  public_key()\n",
        "  private_key()"
      ],
      "metadata": {
        "id": "tRiOWsS7GRL9"
      },
      "execution_count": 281,
      "outputs": []
    },
    {
      "cell_type": "code",
      "source": [
        "key()\n",
        "print(p)\n",
        "print(q)\n",
        "print(f)\n",
        "print(e)\n",
        "print(d)\n",
        "print(n)"
      ],
      "metadata": {
        "colab": {
          "base_uri": "https://localhost:8080/"
        },
        "id": "tfUyh_SPgfsc",
        "outputId": "54ca4d0d-d436-4a8f-e79b-16b08cafb3e7"
      },
      "execution_count": 282,
      "outputs": [
        {
          "output_type": "stream",
          "name": "stdout",
          "text": [
            "168874638401684103110524607753749399019212382618725261372821620942251364852465433329335549136494696571346626225817062685015033983003269740566600132720005749449480287037141444580493814634927542759623507894972431707880302529512184078262889672515763460272055046899496231463073644389463805419516000190863419115069\n",
            "91323875402085178771550792636837811918863244315853186130341399239810956975087749848481487850199581117998005012104808795150895574434750836947411648434743514091091812890115715682618123346992393213236868083388328244303894777405919336781555806985632436761048510986178749760246203685973411270084026213434568759377\n",
            "15422286435967587993674809676971820576454847211495169403485234320902373850472342693300137254236308179648752013776689745479698174380951895304008986578840964435000305086332433499650734201442594991950870458094917360577027346736988644094333069699408416535243013633170172749194292891411080149048116856223919190509153275886475272181981494389421142484522784605493933457560983422625194978553414864395661819148215086251040550715425426705290742027934733863266413834242380202815612243361197561287910665509648893237714427136348144080668642142585056677330071044111172685419234456991638700640878498881081746156270532580624547877568\n",
            "81852564878271707946601219201600218283211595756678321447752412047566237925785\n",
            "11818616128859072206904991145883141727441819035607716786572022066928389238950063249692658078922383168334728380655912456344766711447480015737114266623397526680676968574706761295747690889055704303551593270666291905787533821836886735334127239198612577976019344183841818299150223007573265217992216750635827593671848819292581888443108766057855077245989683339340488629526925894232056653699679274382755220669247854462006762728798538826539963561111581366563936431736058301915814723251891746942549046195927130460639840804151519766909093227797495012424254234349303187279462220920976670156649159044281090895621157332770881727721\n",
            "15422286435967587993674809676971820576454847211495169403485234320902373850472342693300137254236308179648752013776689745479698174380951895304008986578840964435000305086332433499650734201442594991950870458094917360577027346736988644094333069699408416535243013633170172749194292891411080149048116856223919190509413474400279041463863569789811729695460860232428511905064146442807257300380968047573478856134909363940385181953347298185456671585372754440780425615397129466356184343288454721551022603491568829210574803114708904032852839449503160092374516523612568582452338014877313681864198346956518962845870558984922535752013\n"
          ]
        }
      ]
    },
    {
      "cell_type": "markdown",
      "source": [
        "## Naiwne szyfrowanie i deszyfrowanie"
      ],
      "metadata": {
        "id": "wae-whoNGlz_"
      }
    },
    {
      "cell_type": "markdown",
      "source": [
        "\n",
        "Naiwny algorytm szyfrowania wiadomości **M** z wykorzystaniem RSA:\n",
        "\n",
        "1) Zakoduj $M$ jako liczbę.\n",
        "\n",
        "2) Oblicz: $C = M^e$ mod $n$."
      ],
      "metadata": {
        "id": "fESNrzCYNVfy"
      }
    },
    {
      "cell_type": "markdown",
      "source": [
        "Naiwny algorytm deszyfrowania kryptogramu **C** z wykorzystaniem RSA:\n",
        "\n",
        "1) $M = C^d$ mod $n$.\n",
        "\n",
        "2) Zdekoduj wiadomość $M$ do jej pierwotnej postaci (np. stringa). \n"
      ],
      "metadata": {
        "id": "FQvVgWWrHBX2"
      }
    },
    {
      "cell_type": "markdown",
      "source": [
        "**Zadanie 3**\n",
        "\n",
        "Napisz metody szyfrujące i deszyfrujące wiadomość $M$ zgodnie z powyższym algorytmem. Zaszyfruj wiadomość, zdeszyfruj i wypisz oryginalny tekst na ekranie. Odpowiedz na pytanie: jaki warunek musi spełniać liczbowa reprezentacja wiadomości $M$, aby można ją było poprawnie zaszyfrować i zdeszyfrować?"
      ],
      "metadata": {
        "id": "mFRFP0BsHc9l"
      }
    },
    {
      "cell_type": "code",
      "source": [
        "def string_to_int(msg):\n",
        "    return int.from_bytes(msg.encode(), byteorder='big')\n",
        "\n",
        "def int_to_string(num):\n",
        "    length = math.ceil(num.bit_length() / 8)\n",
        "    return num.to_bytes(length, byteorder='big').decode()\n",
        "\n",
        "def encrypt(msg):\n",
        "  M = string_to_int(msg)\n",
        "  return pow(M, e, n)\n",
        "\n",
        "def decrypt(C):\n",
        "  M = pow(C, d, n)\n",
        "  return int_to_string(M)"
      ],
      "metadata": {
        "id": "N3y7NMf_HkuB"
      },
      "execution_count": 283,
      "outputs": []
    },
    {
      "cell_type": "code",
      "source": [
        "M = \"Ala ma kota\"\n",
        "\n",
        "C = encrypt(M)\n",
        "print(C)\n",
        "print(decrypt(C))"
      ],
      "metadata": {
        "id": "_0n_gnNvvDaK",
        "colab": {
          "base_uri": "https://localhost:8080/"
        },
        "outputId": "d67d4011-a7da-46ae-cc93-34ce25e683e3"
      },
      "execution_count": 284,
      "outputs": [
        {
          "output_type": "stream",
          "name": "stdout",
          "text": [
            "13766290455959620611651480490456359447811946741766321612425972020234154970622274048780625570015369646062471696275619577658758594626728986451476369604903221375884531977486115323084529559857407544710912853406689571357699931054728858663019159739422950279369367632714862505244528078435062220961697148357112293801995443029666278141554000623908026623800625093281923263472371961453935981314451330793106769554083345284985481697073650476761727365518051309175320374070974666376604473394276988612828505437780458167405082061645910435597540780102373527140873866404384319337034276649720893395881572115603767769423551846665319838653\n",
            "Ala ma kota\n"
          ]
        }
      ]
    },
    {
      "cell_type": "markdown",
      "source": [
        "## Naiwny schemat podpisu cyfrowego"
      ],
      "metadata": {
        "id": "NjF8Fr_dN0s6"
      }
    },
    {
      "cell_type": "markdown",
      "source": [
        "Naiwna metoda tworzenia podpisu z wiadmości $M$:\n",
        "\n",
        "1) Oblicz $h = H(M)$. H to uzgodniona funkcja skrótu, niech to będzie SHA-256.\n",
        "\n",
        "2) Zakoduj $h$ jako liczbę.\n",
        "\n",
        "3) Oblicz $SIG = h^d$ mod $n$.\n",
        "\n",
        "4) Wyślij parę $(M, SIG)$ weryfikującemu."
      ],
      "metadata": {
        "id": "AsvkSf9zN4i8"
      }
    },
    {
      "cell_type": "markdown",
      "source": [
        "Naiwna metoda weryfikacji podpisu $(M, SIG)$:\n",
        "\n",
        "1) Oblicz $h = H(M)$. H to uzgodniona funkcja skrótu, niech to będzie SHA-256.\n",
        "\n",
        "2) Zakoduj $h$ jako liczbę.\n",
        "\n",
        "3) Oblicz $VER = SIG^e$ mod $n$.\n",
        "\n",
        "4) Jeżeli $VER = h$, weryfikacja przebiegła pomyślnie, a w przeciwnym razie niepomyślnie."
      ],
      "metadata": {
        "id": "xcMiT4DhOoOt"
      }
    },
    {
      "cell_type": "markdown",
      "source": [
        "**Zadanie 4**\n",
        "\n",
        "Zaimplementuj naiwną metodę tworzenia i weryfikowania podpisu cyfrowego RSA."
      ],
      "metadata": {
        "id": "Jx86zFg6PDDs"
      }
    },
    {
      "cell_type": "code",
      "source": [
        "from hashlib import sha3_256\n",
        "\n",
        "def H(M):\n",
        "  h = sha3_256(M)\n",
        "  h = h.digest()\n",
        "  return h\n",
        "\n",
        "def digital_sign(M):\n",
        "  m = bytearray()\n",
        "  m.extend(map(ord, M))\n",
        "  h = H(m)\n",
        "  h = int.from_bytes(h, \"big\")\n",
        "  SIG = pow(h, d, n)\n",
        "  return SIG\n",
        "\n",
        "def verify_signature(M, SIG):\n",
        "  m = bytearray()\n",
        "  m.extend(map(ord, M))\n",
        "  h = H(m)\n",
        "  h = int.from_bytes(h, \"big\")\n",
        "  VER = pow(SIG, e, n)\n",
        "  assert VER == h, \"Wrong signature!\""
      ],
      "metadata": {
        "id": "Y7OSfmf0PJ2Q"
      },
      "execution_count": 287,
      "outputs": []
    },
    {
      "cell_type": "code",
      "source": [
        "M = 'Ala ma kota'\n",
        "\n",
        "SIG = digital_sign(M)\n",
        "print(SIG)\n",
        "verify_signature(M, SIG)"
      ],
      "metadata": {
        "colab": {
          "base_uri": "https://localhost:8080/"
        },
        "id": "G1e7mI5L12Ec",
        "outputId": "f4a2076d-181b-4837-ef87-d287fbd158f1"
      },
      "execution_count": 288,
      "outputs": [
        {
          "output_type": "stream",
          "name": "stdout",
          "text": [
            "9838944116951938196940776018703681982080700902520443155521101896803793513074246232232923096449844178753593373512616676782354890069741185244579200417967593561035256816266735561504919989768583232237927465828401257225013909793448234879114248345927203509929349664441190136327061272159295322977220695643370054902502906959608414525521189413404523675367085544872960644639179180199390590863709505384373004994392293829906191291065511768148900434167441350968087478027432420904604541127498827734937473238607350357010763023426552742618521258995370114296920592474681991621566505032098411561955865396809702423409719338318112030791\n"
          ]
        }
      ]
    },
    {
      "cell_type": "markdown",
      "source": [
        "## MGF 1\n",
        "\n",
        "W dalszej części laboratoriów będziemy potrzebowali generować maskę. Jedynym zatwierdzonym algorytmem który do tego służy jest *Mask Generation Function 1*, opisany w [RFC 8017](https://www.rfc-editor.org/rfc/rfc8017). Jest on stosunkowo prosty. "
      ],
      "metadata": {
        "id": "-6MsXDuaIj2C"
      }
    },
    {
      "cell_type": "markdown",
      "source": [
        "Parametry wejściowe:\n",
        "\n",
        "1) M - bajty wiadomości.\n",
        "\n",
        "2) len - pożądana długość zwórconej maski w bajtach.\n",
        "\n",
        "3) H - wybrana funkcja skrótu, zwracająca $n$ bitowy skrót. Niech to będzie SHA-256. Dla wygody przyjmijmy też, że $hlen = n / 8$ oznacza liczbę bajtów zwracaną przez naszą funkcję skrótu.\n",
        "\n",
        "Wyjściem funkcji są bajty tworzące maskę."
      ],
      "metadata": {
        "id": "wXuwYrpsJzkU"
      }
    },
    {
      "cell_type": "markdown",
      "source": [
        "Algorytm MGF-1:\n",
        "\n",
        "1) Dla 32-biotwego integera $i = 0, ..., ⌈ \\frac{len}{hlen}⌉ - 1$ wykonuj kroki 2 i 3.\n",
        "\n",
        "2) Oblicz tmp = H(M || i). Znak || to konkatenacja i chodzi tu o bajty wiadomości M oraz reprezentację w bajtach 32-bitowego itegera $i$.\n",
        "\n",
        "3) Oblicz output = output || tmp.\n",
        "\n",
        "4) Zwróc $len$ wiodących bajtów zmiennej output."
      ],
      "metadata": {
        "id": "oriQJLCvJ0vM"
      }
    },
    {
      "cell_type": "markdown",
      "source": [
        "**Zadanie 5**\n",
        "\n",
        "Zaprogramuj i przetestuj dla dowolnych wartości funkcję MGF1."
      ],
      "metadata": {
        "id": "o-AkA1mHK7cp"
      }
    },
    {
      "cell_type": "code",
      "source": [
        "import string\n",
        "def MGF1(M, len):\n",
        "  hlen = 256//8\n",
        "  output = b''\n",
        "  if(type(M)==str):\n",
        "    m = bytearray()\n",
        "    m.extend(map(ord, M))\n",
        "  else:\n",
        "    m = M\n",
        "  for i in range(int(math.ceil(len/hlen))):\n",
        "    bytes_i = i.to_bytes(4, byteorder='big')\n",
        "    tmp = H(b''.join([m, bytes_i]))\n",
        "    output = output + tmp\n",
        "  return output[:len]"
      ],
      "metadata": {
        "id": "rrBuKJWZLCV9"
      },
      "execution_count": 289,
      "outputs": []
    },
    {
      "cell_type": "code",
      "source": [
        "M = 'Ala ma kota'\n",
        "print(MGF1(M, 62))\n",
        "print(len(MGF1(M, 62)))"
      ],
      "metadata": {
        "colab": {
          "base_uri": "https://localhost:8080/"
        },
        "id": "lZuFYU2B7siG",
        "outputId": "6a1c9f7a-abe7-47f8-ce82-8ea397d4cc66"
      },
      "execution_count": 290,
      "outputs": [
        {
          "output_type": "stream",
          "name": "stdout",
          "text": [
            "b'\\xf9c\\xbdZ\\x96\\xed\\x14\\xb7\\xf27\\xd1\\x15 Z\\xc0\\x08\\x06)\\x1b$\\x13U;|$\\x81\\xa4\\x1d\\xad\\x8e\\xae\\xd7#$1\\x0e\\xfe\"\\xa3\\xe35\\xc0\\x11\\x00S\\x93\\xbcr\\x05\\x9dE\\xe4\\xb7}F\\x1e\\x98\\xf8>s\\xa9\\xa4'\n",
            "62\n"
          ]
        }
      ]
    },
    {
      "cell_type": "markdown",
      "source": [
        "## OAEP\n",
        "\n",
        "Nasz schemat ma na ten moment jedną sporą wadę, mianowicie rozmiar szyfrowanej wiadomości może być zbyt mały, czyniąc algorytm mniej bezpiecznym. Aby tego uniknąć, używamy algorytmu paddingu opisanego w [RFC 8017](https://www.rfc-editor.org/rfc/rfc8017#section-8), który zwie się *Optimal Assymetric Encryption Padding*."
      ],
      "metadata": {
        "id": "K3gM9vGyPtna"
      }
    },
    {
      "cell_type": "markdown",
      "source": [
        "### OAEP encoding"
      ],
      "metadata": {
        "id": "PFJW4wW5QjjH"
      }
    },
    {
      "cell_type": "markdown",
      "source": [
        "Parametry wejściowe:\n",
        "\n",
        "1) $H$ - funkcja skrótu SHA-256, oraz $hlen$ czyli długość zwracanego skrótu w bajtach.\n",
        "\n",
        "2) $k$ - długość liczby $n$ wyrażona w bajtach.\n",
        "\n",
        "3) $mlen$ - długość wiadomości wyrażona w bajtach.\n",
        "\n",
        "4) $M$ - bajty wiadomości.\n",
        "\n",
        "5) $mgf1$ - Mask Generation Function 1."
      ],
      "metadata": {
        "id": "0BTXF8j6Reel"
      }
    },
    {
      "cell_type": "markdown",
      "source": [
        "Algorytm:\n",
        "\n",
        "1) Jeżeli $mlen > k - 2*hlen - 2$ zwróc błąd.\n",
        "\n",
        "2) Oblicz: $lHash = H(\"\")$.\n",
        "\n",
        "3) Wygeneruj tablicę bajtów $PS$ składającą się z $k - mlen - 2*hlen - 2$ bajtów o wartości 0x00. Rozmiar $PS$ może wynosić 0.\n",
        "\n",
        "4) Oblicz: $DB = lHash || PS || 0x01 || M$. Długość $DB$ powinna wynosić $k - hlen - 1$ bajtów.\n",
        "\n",
        "5) Wygeneruj losową tablicę bajtów $seed$ o rozmiarze $hlen$.\n",
        "\n",
        "6) Oblicz: $dbMask = mgf1(seed, k - hlen - 1)$.\n",
        "\n",
        "7) Oblicz: $maskedDB = DB ⊕ dbMask$.\n",
        "\n",
        "8) Oblicz: $seedMask = mgf1(maskedDB, hlen)$.\n",
        "\n",
        "9) Oblicz: $maskedSeed = seed ⊕ seedMask$.\n",
        "\n",
        "10) Oblicz: $EM = 0x00 || maskedSeed || maskedDB$. Długość $EM$ powinna wynosić $k$.\n",
        "\n",
        "11) Zwróc $EM$."
      ],
      "metadata": {
        "id": "YWse9bSFRfmu"
      }
    },
    {
      "cell_type": "markdown",
      "source": [
        "### OAEP decoding"
      ],
      "metadata": {
        "id": "lwJfZ28SUeKC"
      }
    },
    {
      "cell_type": "markdown",
      "source": [
        "Parametry wejściowe:\n",
        "\n",
        "1) $H$ - funkcja skrótu SHA-256, oraz $hlen$ czyli długość zwracanego skrótu w bajtach.\n",
        "\n",
        "2) $k$ - rozmiar EM wyrażony w bajtach.\n",
        "\n",
        "3) $mgf1$ - Mask Generation Function 1.\n",
        "\n",
        "4) $EM$ - bajty zakodowanej wiadomości."
      ],
      "metadata": {
        "id": "i21JfT9TUlXN"
      }
    },
    {
      "cell_type": "markdown",
      "source": [
        "Algorytm:\n",
        "\n",
        "1) Rozpakuj tablicę bajtów $EM$. Jej pierwszy bajt (najbardziej znaczący) przypisz do $Y$. Kolejne $hlen$ bajtów przypisz do $maskedSeed$, resztę do $maskedDB$. Czyli $EM = Y || maskedSeed || maskedDB$.\n",
        "\n",
        "2) Oblicz: $lHash = H(\"\")$.\n",
        "\n",
        "3) Oblicz: $seedMask = mgf1(maskedDB, hlen)$.\n",
        "\n",
        "4) Oblicz: $seed = maskedSeed ⊕ seedMask$.\n",
        "\n",
        "5) Oblicz: $dbMask = mgf1(seed, k - hlen - 1)$.\n",
        "\n",
        "6) Oblicz: $DB = maskedDB ⊕ dbMask$.\n",
        "\n",
        "7) Rozpkauj tablicę bakjtów $DB$. Pierwsze (najbardziej znaczące) $hlen$ bajtów przypisz do zmiennej $lHash'$. Następne $k - mlen - 2*hlen - 2$ bajtów do PS. Kolejny pojedynczy bajt powinien wynosić 0x01, jeżeli jest inaczej zwróć błąd i **zakończ działanie**. Resztę bajtów przypsiz do zmiennej $M$. Czyli: $DB = lHash' || PS || 0x01 || M$. \n",
        "\n",
        "8) Jeżeli $Y \\neq 0x00$ zwróć błąd i **zakończ działanie**.\n",
        "\n",
        "9) Jeżeli $lHash \\neq lHash'$ zwróć błąd i **zakończ działanie**.\n",
        "\n",
        "10) Zwróc $M$."
      ],
      "metadata": {
        "id": "Toe-FHBzU1n-"
      }
    },
    {
      "cell_type": "markdown",
      "source": [
        "### Zadanie 6"
      ],
      "metadata": {
        "id": "FzABAfgY-_vJ"
      }
    },
    {
      "cell_type": "markdown",
      "source": [
        "**Zadanie 6**\n",
        "\n",
        "Zaproogramuj kodowanie i dekodowanie OAEP. Zmodyfikuj algorytm szyfrowania RSA, tak, aby przed zaszyfrowaniem wiadomość była paddingowana. Zmodyfikuj algorytm deszyfrowania tak, aby po zdeszyfrowaniu konieczne było wywołanie metody dekodowania OAEP w celu odzyskania wiadomości."
      ],
      "metadata": {
        "id": "A0yx2wepX4n1"
      }
    },
    {
      "cell_type": "code",
      "source": [
        "import secrets\n",
        "\n",
        "def encrypt_OAEP(M):\n",
        "  hlen = 256//8\n",
        "  k = nlen//8\n",
        "  if(type(M)==str):\n",
        "    m = bytearray()\n",
        "    m.extend(map(ord, M))\n",
        "  else:\n",
        "    m = M\n",
        "  mlen = len(M)\n",
        "  assert mlen <= k - 2*hlen -2, 'Error'\n",
        "  lHash = H(b'')\n",
        "  PS = bytes(k - mlen - 2*hlen -2)\n",
        "  DB = b''.join([lHash, PS, b'\\x01', m])\n",
        "  seed = secrets.token_bytes(hlen)\n",
        "  dbMask = MGF1(seed, k-hlen-1)\n",
        "  maskedDB = bytes([a ^ b for a, b in zip(DB, dbMask)])\n",
        "  seedMask = MGF1(maskedDB, hlen)\n",
        "  maskedSeed = bytes([a ^ b for a, b in zip(seed, seedMask)])\n",
        "  EM = b''.join([b'\\x00', maskedSeed, maskedDB])\n",
        "  return EM\n",
        "\n",
        "def decrypt_OAEP(EM):\n",
        "  hlen = 256//8\n",
        "  k = len(EM)\n",
        "  Y = EM[:1]\n",
        "  maskedSeed = EM[1:1+hlen]\n",
        "  maskedDB = EM[1+hlen:]\n",
        "  lHash = H(b'')\n",
        "  seedMask = MGF1(maskedDB, hlen)\n",
        "  seed = bytes([a ^ b for a, b in zip(maskedSeed, seedMask)])\n",
        "  dbMask = MGF1(seed, k-hlen-1)\n",
        "  DB = bytes([a ^ b for a, b in zip(maskedDB, dbMask)])\n",
        "  lHash_ = DB[:hlen]\n",
        "  \n",
        "  x01 = DB.find(0x01, hlen)\n",
        "  PS = DB[hlen:x01]\n",
        "  assert DB[x01:x01+1] == b'\\x01', 'Error 0x01'\n",
        "  M = DB[x01+1:]\n",
        "\n",
        "  # PS = DB[hlen:hlen+(k-mlen-2*hlen-2)]\n",
        "  # assert DB[hlen+(k-mlen-2*hlen-2):hlen+(k-mlen-2*hlen-2)+1] == b'\\x01', 'Error 0x01'\n",
        "  # M = DB[hlen+(k-mlen-2*hlen-2)+1:]\n",
        "\n",
        "  assert Y == b'\\x00', 'Error Y'\n",
        "  assert lHash == lHash_, 'Error lHash'\n",
        "  return M"
      ],
      "metadata": {
        "id": "sA1oCpziYT6z"
      },
      "execution_count": 291,
      "outputs": []
    },
    {
      "cell_type": "code",
      "source": [
        "M = \"Ala ma kota\"\n",
        "EM = encrypt_OAEP(M)\n",
        "print(EM)\n",
        "print(decrypt_OAEP(EM).decode(\"utf-8\"))"
      ],
      "metadata": {
        "colab": {
          "base_uri": "https://localhost:8080/"
        },
        "id": "wwv_OdqF_1Us",
        "outputId": "a5eadb8d-26fa-497d-fcc4-ee8efd6f43e5"
      },
      "execution_count": 292,
      "outputs": [
        {
          "output_type": "stream",
          "name": "stdout",
          "text": [
            "b'\\x00C\\xb3NF-\\x9dF\\xb7z\\x9b\\x121\\xb0N\\xea\\xbe\\x1e\\xee\\xdd\\x87.\\x7fk\\xafo\\xc1\\xec\\x8c\\xa4\\xde\\xd1\\xf3\\xfc\\x11\\xd1|\\xa0[@\\xea\\x96\\xe8\\x84N\\x80\\xcd\\xb9\\xc4\\xd1w/|\\x92\\xeb\\xc3h\\x99\\xa8q;\\x15\\x8b\\x98\\x8e\\xafn\\x90\\x91\\x96\\xa3\\x916@\\xa5G~\\x14-(S\\x0fj\\xf0R\\xbb^\\x9e*>\\x1c\\x87\\xf8\\xec\\xb5\\xae|\\x87}f\\xd7b8S\\xa863\\xcd\\xbaQ\\x8e\\x83hQ\\xa2\\xb0-\\xa7m/\\x91$\\xa5\\xa9_\\xc4\\xe0\\x15*\\x81b\\xea\\x95-b\\x07\\xe8#\\x8a46\\x9dY\\xe1\\xf5\\xe0gq=]5\\xcd\\\\\\xf2\\x91U\\x98-\\xdbE@f\\x15\\xc44}\\xdeX\\xf1\\xf3X-5w\\xd9\\xa3O\\xdb%m\\x99O\\x1bY\\xd6\\xb4I\\x94W\\xa6Q\\xe2\\x16\\xe3\\xc6\\xf9K\\xb5\\x82\\xcb3\\x8e4\\x11\\x8em\\xce\\x8c\\xe3Z\\xd2p\\xe6\\xd5\\x13%\\xa4[~\\xd2\\xfd\\xaa\\xa8q~\\xef\\xcb\\x9c\\xf7\"\\xb3\\xa4\\x03\\xd7X\\x9f\\xde\\xc0%\\x98\\x88\\xfcTVZ\\x80\\xa6W\\xca\\xe2\\xcc\\xd6\\x11s\\xab\\x15'\n",
            "Ala ma kota\n"
          ]
        }
      ]
    },
    {
      "cell_type": "code",
      "source": [
        "def encrypt_RSA(M):\n",
        "  if(type(M)==str):\n",
        "    m = bytearray()\n",
        "    m.extend(map(ord, M))\n",
        "  else:\n",
        "    m = M\n",
        "  paddedM = encrypt_OAEP(m)\n",
        "  paddedM = int.from_bytes(paddedM, \"big\")\n",
        "  return pow(paddedM, e, n)\n",
        "\n",
        "def decrypt_RSA(C):\n",
        "  paddedM = pow(C, d, n)\n",
        "  paddedM = paddedM.to_bytes(nlen//8, \"big\")\n",
        "  M = decrypt_OAEP(paddedM)\n",
        "  return M"
      ],
      "metadata": {
        "id": "66Z_q-QlRKu4"
      },
      "execution_count": 293,
      "outputs": []
    },
    {
      "cell_type": "code",
      "source": [
        "M = \"Ala ma kota\"\n",
        "C = encrypt_RSA(M)\n",
        "print(C)\n",
        "print(decrypt_RSA(C).decode('utf-8'))"
      ],
      "metadata": {
        "colab": {
          "base_uri": "https://localhost:8080/"
        },
        "id": "fkavbdi7cdNV",
        "outputId": "4765ba56-0930-4879-f4d9-57cfd3c41249"
      },
      "execution_count": 294,
      "outputs": [
        {
          "output_type": "stream",
          "name": "stdout",
          "text": [
            "933213298331913384375690079357416932397482414505509894931050907016813899048944910371664373851039350411504799840705394040808826398089631381561327309847284161790313902303587466487508759674008678458870974954613944054378616515849072615219431612676118926534367947560601876603080669969824196175508333801224021100492204817668984255370047554820697555129578753203036590204390579703413329585057576956236543448647484637701507545350179787716446405198510111809650091155457949688088458808130715958561392049128487780971165876591156966362218936786426167732884643940747482016695905180952525687433569940208527219000927859997508285309\n",
            "Ala ma kota\n"
          ]
        }
      ]
    },
    {
      "cell_type": "markdown",
      "source": [
        "## EMSA - PSS\n",
        "\n",
        "Utworzenie bezpiecznej sygnatury RSA wymaga zastowania algorytmu *Encoding Method for Signature with Appendix - Probabilistic Signature Scheme* ."
      ],
      "metadata": {
        "id": "ug2e_I03YoR1"
      }
    },
    {
      "cell_type": "markdown",
      "source": [
        "### EMSA encoding"
      ],
      "metadata": {
        "id": "KrWpFTRHZSA7"
      }
    },
    {
      "cell_type": "markdown",
      "source": [
        "Parametry wejściowe:\n",
        "\n",
        "1) $H$ - funkcja skrótu SHA-256, oraz $hlen$ czyli długość zwracanego skrótu w bajtach.\n",
        "\n",
        "2) $slen$ - długość soli w bajtach, powinna być równa $hlen$.\n",
        "\n",
        "3) $M$ - bajty wiadomości do podpisania.\n",
        "\n",
        "4) $mgf1$ - Mask Generation Function 1.\n",
        "\n",
        "5) $emBits$ - pożądana długość sygnatury w bitach. Jest to najczęściej długość bitowa liczby modulus $n$ pomniejszona o jeden, czyli w naszym przypadku 2047.\n",
        "\n",
        "6) $emlen$ - długość sygnatury w bajtach, równa długości parametru $n$ wyrażonego w bajtach.\n"
      ],
      "metadata": {
        "id": "bNPN9mqIZT5F"
      }
    },
    {
      "cell_type": "markdown",
      "source": [
        "Algorytm:\n",
        "\n",
        "1) Oblicz: $mHash = H(M)$.\n",
        "\n",
        "2) Jeżeli $emlen < hlen + slen + 2$ **zakończ i zwróć błąd**.\n",
        "\n",
        "3) Wygeneruj tablicę losowych bajtów $salt$ o długości $slen$.\n",
        "\n",
        "4) Oblicz: $M' = 0x00 00 00 00 00 00 00 00 || mHash || salt$. Długość $M'$ to $8 + hlen + slen$.\n",
        "\n",
        "5) Oblicz: $mHash' = H(M')$.\n",
        "\n",
        "6) Wygeneruj tablicę $PS$ składającą się z bajtów 0x00 o długości $emlen - slen - hlen - 2$.\n",
        "\n",
        "7) Oblicz: $DB = PS || 0x01 || salt$. Długość $DB$ powinna wynosić $emlen - hlen - 1$ bajtów.\n",
        "\n",
        "8) Oblicz: $dbMask = mgf1(mHash', emlen - hlen - 1)$.\n",
        "\n",
        "9) Oblicz: $maskedDB = DB ⊕ dbMask$.\n",
        "\n",
        "10) Ustaw $8 * emlen - emBits$ **najbardziej znaczących** bitów $maskedDB$ na wartości 0.\n",
        "\n",
        "11) Oblicz: $EM = maskedDB || mHash' || 0xbc$.\n",
        "\n",
        "12) Zwróć $EM$.\n"
      ],
      "metadata": {
        "id": "6-0Vzuzf_f81"
      }
    },
    {
      "cell_type": "markdown",
      "source": [
        "### EMSA decoding"
      ],
      "metadata": {
        "id": "HWbbbw1DCGpr"
      }
    },
    {
      "cell_type": "markdown",
      "source": [
        "Parametry wejściowe:\n",
        "\n",
        "1) $H$ - funkcja skrótu SHA-256, oraz $hlen$ czyli długość zwracanego skrótu w bajtach.\n",
        "\n",
        "2) $slen$ - długość soli w bajtach, powinna być równa $hlen$.\n",
        "\n",
        "3) $EM$ - sygnatura wiadomości $M$.\n",
        "\n",
        "4) $M$ - bajty wiadomości do weryfikacji.\n",
        "\n",
        "4) $mgf1$ - Mask Generation Function 1.\n",
        "\n",
        "5) $emBits$ - długość sygnatury w bitach. Jest to najczęściej długość bitowa liczby modulus $n$ pomniejszona o jeden, czyli w naszym przypadku 2047.\n",
        "\n",
        "6) $emlen$ - długość sygnatury w bajtach, równa długości parametru $n$ wyrażonego w bajtach."
      ],
      "metadata": {
        "id": "xR6QyzduCIoc"
      }
    },
    {
      "cell_type": "markdown",
      "source": [
        "Algorytm:\n",
        "\n",
        "1) Oblicz: $mHash = H(M)$.\n",
        "\n",
        "2) Jeżeli $emlen < hlen + slen + 2$ **zakończ i zwróć błąd weryfikacji**.\n",
        "\n",
        "3) Jeżeli ostatni bajt (najmniej znaczący) $EM$ nie ma wartości 0xbc **zakończ i zwróć błąd weryfikacji**.\n",
        "\n",
        "4) Podstaw $emlen - hlen - 1$ najbardziej znaczących bajtów do $maskedDB$ oraz kolejne $hlen$ bajtów do $mHash'$.\n",
        "\n",
        "5) Jeżeli $8 * emlen - emBits$ najbardziej znaczących bitów $maskedDB$ nie ma wartości 0, **zakończ i zwróć błąd weryfikacji**.\n",
        "\n",
        "6) Oblicz: $dbMask = mgf1(mHash', emlen - hlen - 1)$.\n",
        "\n",
        "7) Oblicz: $DB = maskedDB ⊕ dbMask$.\n",
        "\n",
        "8) Ustaw $8 * emlen - emBits$ najbardziej znaczących bitów $DB$ na 0.\n",
        "\n",
        "9) Jeżeli $emlen - hlen - slen - 2$ najbardziej znaczących bajtów $DB$ nie posiada wartości 0x00 lub gdy bajt na pozycji $emlen - hlen - slen - 1$ (licząc od najbardziej znaczącego) nie posiada wartości 0x01 **zakończ i zwróć błąd weryfikacji**.\n",
        "\n",
        "10) Przypisz do zmiennej $salt$ dokładnie $slen$ najmniej znaczących bajtów $DB$.\n",
        "\n",
        "11) Oblicz: $M' = 0x00 00 00 00 00 00 00 00 || mHash || salt$. Długość $M'$ to $8 + hlen + slen$.\n",
        "\n",
        "12) Oblicz $mHash'' = H(M')$.\n",
        "\n",
        "13) Jeżeli $mHash' \\neq mHash''$ **zakończ i zwróć błąd weryfikacji**, w przeciwnym razie **weryfikacja powiodła się**.\n"
      ],
      "metadata": {
        "id": "MqZUQgT6CspI"
      }
    },
    {
      "cell_type": "markdown",
      "source": [
        "**Zadanie 7**\n",
        "\n",
        "Zaprogramuj kodowanie i dekodowanie EMSA, a następnie popraw algorytmy tworzenia i weryfikacji podpisu cyfrowego RSA. Tworzenie podpisu powinno wyglądać tak, że wiadomość najpierw jest kodowana z wykorzystaniem EMSA, a później tworzony jest popdis z wykorzystaniem klucza prywatnego. Dekodowanie powinno wyglądać tak, że najpierw używany jest klucz publiczny do odtworzenia podpisu EMSA, a następnie wykorzystywane jest dekodowanie EMSA w celu weryfikacji."
      ],
      "metadata": {
        "id": "wrxJHSkyIvz5"
      }
    },
    {
      "cell_type": "code",
      "source": [
        "def encrypt_EMSA(M):\n",
        "  hlen = 256//8\n",
        "  slen = hlen\n",
        "  emBits = nlen - 1\n",
        "  emlen = nlen//8\n",
        "  if(type(M)==str):\n",
        "    m = bytearray()\n",
        "    m.extend(map(ord, M))\n",
        "  else:\n",
        "    m = M\n",
        "  mHash = H(m)\n",
        "  assert emlen >= hlen + slen + 2, 'Error'\n",
        "  salt = secrets.token_bytes(slen)\n",
        "  M_ = b''.join([bytes(8), mHash, salt])\n",
        "  mHash_ = H(M_)\n",
        "  PS = bytes(emlen - slen - hlen - 2)\n",
        "  DB = b''.join([PS, b'\\x01', salt])\n",
        "  dbMask = MGF1(mHash_, emlen-hlen-1)\n",
        "  maskedDB = bytes([a ^ b for a, b in zip(DB, dbMask)])\n",
        "  num_zero_bits = 8*emlen - emBits\n",
        "  num_zero_bytes = (num_zero_bits + 7)//8\n",
        "  mask = ((1 << num_zero_bits) - 1) << (8*num_zero_bytes - num_zero_bits)\n",
        "  mask = mask.to_bytes(num_zero_bytes, byteorder='big')\n",
        "  masked = maskedDB[:num_zero_bytes]\n",
        "  masked = bytes([masked[i] & (~mask[i]) for i in range(num_zero_bytes)])\n",
        "  maskedDB = masked + maskedDB[num_zero_bytes:]\n",
        "  EM = b''.join([maskedDB, mHash_, b'\\xbc'])\n",
        "  return EM"
      ],
      "metadata": {
        "id": "r7eEJqsdD884"
      },
      "execution_count": 295,
      "outputs": []
    },
    {
      "cell_type": "code",
      "source": [
        "def decrypt_EMSA(M, EM):\n",
        "  hlen = 256//8\n",
        "  slen = hlen\n",
        "  emBits = nlen - 1\n",
        "  emlen = nlen//8\n",
        "  if(type(M)==str):\n",
        "    m = bytearray()\n",
        "    m.extend(map(ord, M))\n",
        "  else:\n",
        "    m = M\n",
        "  mHash = H(m)\n",
        "  assert emlen >= hlen + slen + 2, 'Error'\n",
        "  assert EM[-1:] == b'\\xbc', 'Error 0xbc'\n",
        "  maskedDB = EM[:emlen-hlen-1]\n",
        "  mHash_ = EM[emlen-hlen-1: emlen-1]\n",
        "\n",
        "  num_zero_bits = 8*emlen - emBits\n",
        "  num_zero_bytes = (num_zero_bits + 7)//8\n",
        "  maskedDB_bits = ''.join([bin(byte)[2:].zfill(8) for byte in maskedDB[:num_zero_bytes]])\n",
        "  for i in range(num_zero_bits):\n",
        "    assert maskedDB_bits[i] == '0', 'Error O bits'\n",
        "  dbMask=MGF1(mHash_,emlen-hlen-1)\n",
        "  DB = bytes([a ^ b for a, b in zip(maskedDB, dbMask)])\n",
        "\n",
        "  mask = ((1 << num_zero_bits) - 1) << (8*num_zero_bytes - num_zero_bits)\n",
        "  mask = mask.to_bytes(num_zero_bytes, byteorder='big')\n",
        "  masked = DB[:num_zero_bytes]\n",
        "  masked = bytes([masked[i] & (~mask[i]) for i in range(num_zero_bytes)])\n",
        "  DB = masked + DB[num_zero_bytes:]\n",
        "\n",
        "  assert DB[:emlen-hlen-slen-2] == bytes(emlen-hlen-slen-2), 'Error DB'\n",
        "  assert DB[emlen-hlen-slen-2:emlen-hlen-slen-1] == b'\\x01', 'Error 0x01' \n",
        "\n",
        "  salt = DB[-slen:]\n",
        "  M_ = b''.join([bytes(8), mHash, salt])\n",
        "  mHash__ = H(M_)\n",
        "  assert mHash_==mHash__, 'Wrong signature!'"
      ],
      "metadata": {
        "id": "mHtJ0QM0EjZb"
      },
      "execution_count": 296,
      "outputs": []
    },
    {
      "cell_type": "code",
      "source": [
        "def pbits(B):\n",
        "  for byte in B:\n",
        "    print(bin(byte)[2:].zfill(8), end=' ')\n",
        "  print('')"
      ],
      "metadata": {
        "id": "Es14fFlrXM9O"
      },
      "execution_count": 297,
      "outputs": []
    },
    {
      "cell_type": "code",
      "source": [
        "M = 'Ala ma kota'\n",
        "\n",
        "EM = encrypt_EMSA(M)\n",
        "decrypt_EMSA(M, EM)"
      ],
      "metadata": {
        "id": "VUVcvsmtFnzd"
      },
      "execution_count": 298,
      "outputs": []
    },
    {
      "cell_type": "markdown",
      "source": [
        "Tworzenie podpisu powinno wyglądać tak, że wiadomość najpierw jest kodowana z wykorzystaniem EMSA, a później tworzony jest popdis z wykorzystaniem klucza prywatnego. Dekodowanie powinno wyglądać tak, że najpierw używany jest klucz publiczny do odtworzenia podpisu EMSA, a następnie wykorzystywane jest dekodowanie EMSA w celu weryfikacji."
      ],
      "metadata": {
        "id": "uK4-pY74Wurv"
      }
    },
    {
      "cell_type": "code",
      "source": [
        "def digital_sign_RSA(M):\n",
        "  h = encrypt_EMSA(M)\n",
        "  h = int.from_bytes(h, \"big\")\n",
        "  SIG = pow(h, d, n)\n",
        "  return SIG\n",
        "\n",
        "def verify_signature_RSA(M, SIG):\n",
        "  VER = pow(SIG, e, n)\n",
        "  EM = VER.to_bytes(nlen//8, byteorder='big')\n",
        "  decrypt_EMSA(M, EM)"
      ],
      "metadata": {
        "id": "CLgIrka6Wo7E"
      },
      "execution_count": 299,
      "outputs": []
    },
    {
      "cell_type": "code",
      "source": [
        "M = 'Ala ma kota'\n",
        "\n",
        "SIG = digital_sign_RSA(M)\n",
        "verify_signature_RSA(M, SIG)"
      ],
      "metadata": {
        "id": "I7hYHxWiX7Ji"
      },
      "execution_count": 300,
      "outputs": []
    },
    {
      "cell_type": "markdown",
      "source": [
        "## RSA - KEM\n",
        "\n",
        "RSA - KEM, czyli z ang. *Key Encapsulation Mechanism* to prosty algorytm dedykowany do wymiany klucza symetrycznego. Obie strony dysponują uzgodnioną funkcją skótu H. Instancja, która chce **otrzymać** tajny klucz do komunikacji symetrycznej generuje klucze RSA i udostępnia swój klucz publiczny. Instancja, która chce wygenerować tajny klucz do komunikacji symetrycznej dysponuje kluczem publicznym instancji, która chce go otrzymać."
      ],
      "metadata": {
        "id": "d7txLS64JZI-"
      }
    },
    {
      "cell_type": "markdown",
      "source": [
        "Instancja generująca klucz symetryczny:\n",
        "\n",
        "1) Znajdź losową liczbę $RAND$ spełniającą warunki OAEP.\n",
        "\n",
        "2) Oblicz: $KEY = H(RAND)$. Jeżeli trzeba, przytnij $KEY$ do odpowiedniej długości.\n",
        "\n",
        "3) Oblicz: $CIPHERED\\_KEY = RSA\\_OAEP\\_ENCODING(KEY, (e, n))$.\n",
        "\n",
        "4) Wyślij $CIPHERED\\_KEY$."
      ],
      "metadata": {
        "id": "tl7cu30PJ1lk"
      }
    },
    {
      "cell_type": "markdown",
      "source": [
        "Instancja otrzymująca zaszyfrowany klucz symetryczny:\n",
        "\n",
        "1) Oblicz: $KEY = RSA\\_OAEP\\_DECODING(CIPHERED\\_KEY, (d, n))$\n",
        "u mnie encrypt_rsa\n",
        "\n",
        "2) Jeżeli trzeba przytnij $KEY$ do odpowiedniej długości."
      ],
      "metadata": {
        "id": "oFB9JAwULw70"
      }
    },
    {
      "cell_type": "markdown",
      "source": [
        "Np. AES występuje w wersji 128b, 192b i 256b. Jeżeli jako H przyjmiemy więc SHA-256, nie trzeba przycinać klucza dla algorytmu AES-256. W przeciwnym razie należy klucz odpowiednio przyciąć (z lewej lub prawej, byle obie strony tak samo) i to ta wartość staje się kluczem symetrycznym."
      ],
      "metadata": {
        "id": "386c_pDZMSRG"
      }
    },
    {
      "cell_type": "markdown",
      "source": [
        "**Zadanie 8**\n",
        "\n",
        "Zasymuluj takową wymianę (bez przycinania klucza)."
      ],
      "metadata": {
        "id": "7N66NPBBMpLS"
      }
    },
    {
      "cell_type": "code",
      "source": [
        "from Crypto.Random.random import getrandbits\n",
        "\n",
        "def generate_sym_key():\n",
        "  hlen = 256\n",
        "  rand = getrandbits(nlen-2*hlen-2*8)\n",
        "  rand = rand.to_bytes((rand.bit_length() + 7) // 8, byteorder='big')\n",
        "  key = H(rand)\n",
        "  # print(key)\n",
        "  ciphered_key = encrypt_RSA(key)\n",
        "  return ciphered_key\n",
        "\n",
        "def decode_sym_key(ciphered_key):\n",
        "  key = decrypt_RSA(ciphered_key)\n",
        "  return key"
      ],
      "metadata": {
        "id": "Td_Qg2zlMuRt"
      },
      "execution_count": 303,
      "outputs": []
    },
    {
      "cell_type": "code",
      "source": [
        "ciphered_key=generate_sym_key()\n",
        "print(ciphered_key)\n",
        "print(decode_sym_key(ciphered_key))"
      ],
      "metadata": {
        "colab": {
          "base_uri": "https://localhost:8080/"
        },
        "id": "CogEqUXsmGFP",
        "outputId": "fa300378-b7e1-45be-812f-3f217438eb41"
      },
      "execution_count": 304,
      "outputs": [
        {
          "output_type": "stream",
          "name": "stdout",
          "text": [
            "4224006308891386855306576192226480846370615008031732277844190759222263553074923270361560563935988217043052369092122364217435327359346054741371044847113815074182174729449015486068467500802780666971132526035102815861989850057150913643853058388010437759212555678848754497527183405536471946117620937282406224377133807393241291902789448938757643003598983606679807906950924175482945898091876443707640559360139856047394170005590687022832467441186795651365524938925817718134166496128111636134022025827343593861647935399809874658348778659644657750322300023503771786225476796278802090206100196601924814794458489578354530409143\n",
            "b'\\x14\\xa0\\xcaR\\x07\\xdd\\xe3z\\xfd\\xf0;/\\x90\\xd8\\x8crb\\x1c\\x88v\\x1fEK\\x82p`\\x87*\\xef\\xde\\x85\\x0b'\n"
          ]
        }
      ]
    }
  ]
}